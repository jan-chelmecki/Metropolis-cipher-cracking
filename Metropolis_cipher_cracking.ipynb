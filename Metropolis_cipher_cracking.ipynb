{
 "cells": [
  {
   "cell_type": "markdown",
   "metadata": {},
   "source": [
    "# Metropolis cipher cracking\n",
    "\n",
    "This is a student project implementing a Markov chain attack on a simple substitution cipher (i.e. one for which the key is some permutation of the alphabet).\n",
    "\n",
    "It was inspired by the lecture notes Probability and Computing by Ryan O'Donnell (Fall 2009 version, page 147 in the pdf), link here:\n",
    "\n",
    "https://www.cs.cmu.edu/~odonnell/papers/probability-and-computing-lecture-notes.pdf\n",
    "\n",
    "\n",
    "Let's begin by creating a simple cipher to encode a short message."
   ]
  },
  {
   "cell_type": "code",
   "execution_count": 1,
   "metadata": {},
   "outputs": [
    {
     "name": "stdout",
     "output_type": "stream",
     "text": [
      "{'a': 'n', 'b': 'm', 'c': 'g', 'd': 'w', 'e': 's', 'f': 'j', 'g': 'r', 'h': 'l', 'i': 't', 'j': 'f', 'k': 'q', 'l': 'u', 'm': 'h', 'n': 'a', 'o': 'e', 'p': 'c', 'q': 'd', 'r': 'p', 's': 'z', 't': 'y', 'u': 'i', 'v': 'x', 'w': 'o', 'x': 'k', 'y': 'v', 'z': ' ', ' ': 'b'} \n",
      "\n",
      "gehsbutxsbotylbhsbnawbmsbhvbuexsbnawbosbotuubnuubylsbcusnzipszbcpexsbylnybxnuusvzbrpexszbltuuzbnawbjtsuwzboeewzbepbzysscvbheiayntabvtsuwzbnawbosbotuubztybiceabylsbpegqzbzsstarbylsbzlsclspwzbjsswbylstpbjuegqzbmvbzlnuueobptxspzbyebolezsbjnuuzbhsuewteizbmtpwzbztarbhnwptrnuzbnawbtbotuubhnqsbylssbmswzbejbpezszbnawbnbyleiznawbjpnrpnaybceztszbnbgncbejbjueospzbnawbnbqtpyusbshmpetwspswbnuubotylbusnxszbejbhvpyusbnbreoabhnwsbejbylsbjtaszyboeeuboltglbjpehbeipbcpsyyvbunhmzbosbciuubjntpbutaswbzutccspzbjepbylsbgeuwbotylbmigquszbejbylsbcipszybreuw\n"
     ]
    }
   ],
   "source": [
    "import random\n",
    "import numpy as np\n",
    "import matplotlib.pyplot as plt\n",
    "import gc\n",
    "\n",
    "plaintext = \"\"\"Come live with me and be my love,\n",
    "And we will all the pleasures prove,\n",
    "That Valleys, groves, hills, and fields,\n",
    "Woods, or steepy mountain yields.\n",
    "\n",
    "And we will sit upon the Rocks,\n",
    "Seeing the Shepherds feed their flocks,\n",
    "By shallow Rivers to whose falls\n",
    "Melodious birds sing Madrigals.\n",
    "\n",
    "And I will make thee beds of Roses\n",
    "And a thousand fragrant posies,\n",
    "A cap of flowers, and a kirtle\n",
    "Embroidered all with leaves of Myrtle;\n",
    "\n",
    "A gown made of the finest wool\n",
    "Which from our pretty Lambs we pull;\n",
    "Fair lined slippers for the cold,\n",
    "With buckles of the purest gold;\"\"\"\n",
    "\n",
    "#part of Marlowe's  'The Passionate Shepherd to His Love'; later re-written in lowercase and without punctuation for simplicity\n",
    "def strip(string):\n",
    "    return string.lower().replace(\",\",\"\").replace(\".\",\"\").replace(\";\",\"\").replace(\"\\n\",\" \").replace(\"  \", \" \")\n",
    "plaintext = strip(plaintext)\n",
    "\n",
    "def encrypt(message, key): #encode/decode, function takes str and dict inputs\n",
    "    new_message = \"\"\n",
    "    for c in message:\n",
    "        try:\n",
    "            key[c]\n",
    "        except:\n",
    "            new_message += c\n",
    "        else:\n",
    "            new_message += key[c]\n",
    "    return new_message\n",
    "\n",
    "def decrypt(message, key):\n",
    "    inverse_key = {}\n",
    "    for c in alphabet:\n",
    "        inverse_key[key[c]] = c\n",
    "    return encrypt(message, inverse_key)\n",
    "\n",
    "alphabet = \"abcdefghijklmnopqrstuvwxyz \" #contains the space ' ' as well\n",
    "def random_key():\n",
    "    key = {}\n",
    "    for letter in alphabet: #init as   id: A-> A\n",
    "        key[letter] = letter\n",
    "    for tau in range(1000): #apply random transpositions\n",
    "        i = alphabet[random.randint(0,len(alphabet)-1)]\n",
    "        j = alphabet[random.randint(0,len(alphabet)-1)]\n",
    "        #do allow for i==j, so that the final permutation isn't necessarily even\n",
    "        temp = key[i]\n",
    "        key[i] = key[j]\n",
    "        key[j] = temp\n",
    "    #next t\n",
    "    return key\n",
    "\n",
    "secret_key = random_key()\n",
    "print(secret_key, \"\\n\")\n",
    "\n",
    "ciphertext = encrypt(plaintext, secret_key)\n",
    "print(ciphertext)"
   ]
  },
  {
   "cell_type": "markdown",
   "metadata": {},
   "source": [
    "Notice that once we treat the space character on equal footing with the letters, word lengths change dramatically. \n",
    "\n",
    "Now we proceed to cracking the cipher, assuming only that the message was encrypted with some 1:1 simple substitution cipher. The method will base on frequency analysis, and we first need to know some general statistics about letter frequencies in English. To allow for code flexibility, all data is extracted from books by the cell below. I choose Moby Dick (here, stored in Moby_Dick.txt) as the sole reference but other books could be added, too. The text I use was downloaded from Project Gutenberg."
   ]
  },
  {
   "cell_type": "code",
   "execution_count": 2,
   "metadata": {},
   "outputs": [
    {
     "data": {
      "text/plain": [
       "19958"
      ]
     },
     "execution_count": 2,
     "metadata": {},
     "output_type": "execute_result"
    }
   ],
   "source": [
    "letter_frequencies = {}\n",
    "for letter in alphabet:\n",
    "    letter_frequencies[letter] = 0\n",
    "\n",
    "pairs = [l1+l2 for l1 in alphabet for l2 in alphabet]\n",
    "pair_frequencies = {}\n",
    "for pair in pairs:\n",
    "    pair_frequencies[pair] = 0\n",
    "\n",
    "word_frequencies = {}\n",
    "\n",
    "letter_count = 0\n",
    "word_count = 0\n",
    "\n",
    "book_titles = [\"Moby_Dick\"]\n",
    "for title in book_titles:\n",
    "    book = open(title+\".txt\")\n",
    "    book_str = book.read().lower()\n",
    "    current_word = \"\"\n",
    "    last_char = \" \" #a space\n",
    "    for character in book_str:\n",
    "        if character == \"\\n\":\n",
    "            character = \" \";\n",
    "        try:\n",
    "            letter_frequencies[character] += 1\n",
    "        except:\n",
    "            pass #ignore non-letter characters\n",
    "        else: #if a letter\n",
    "            letter_count += 1\n",
    "            if character == \" \":\n",
    "                word_count += 1;\n",
    "                try:\n",
    "                    word_frequencies[current_word] += 1\n",
    "                except:\n",
    "                    word_frequencies[current_word] = 1\n",
    "                current_word = \"\"\n",
    "            else:\n",
    "                current_word += character\n",
    "            #endif\n",
    "            pair_frequencies[last_char+character] += 1\n",
    "            last_char = character\n",
    "        #endif\n",
    "    #next character\n",
    "    book.close()\n",
    "    del book_str\n",
    "    gc.collect() #free the allocated memory\n",
    "\n",
    "for word in word_frequencies.keys():\n",
    "    word_frequencies[word] /= word_count\n",
    "\n",
    "for letter in alphabet:\n",
    "    letter_frequencies[letter] /= letter_count\n",
    "\n",
    "for pair in pairs:\n",
    "    pair_frequencies[pair] /= letter_count\n",
    "\n",
    "len(word_frequencies.keys())"
   ]
  },
  {
   "cell_type": "markdown",
   "metadata": {},
   "source": [
    "The average adult knows 20000-35000 words, so we should be OK having analysed one book. The word dictionary will only be needed to verify if a potential key decodes the ciphertext into something sensible, so there is little need to account for seldomly used words."
   ]
  },
  {
   "cell_type": "code",
   "execution_count": 3,
   "metadata": {},
   "outputs": [
    {
     "data": {
      "text/plain": [
       "<BarContainer object of 27 artists>"
      ]
     },
     "execution_count": 3,
     "metadata": {},
     "output_type": "execute_result"
    },
    {
     "data": {
      "image/png": "[encoded data removed]",
      "text/plain": [
       "<Figure size 640x480 with 1 Axes>"
      ]
     },
     "metadata": {},
     "output_type": "display_data"
    }
   ],
   "source": [
    "S = sorted(letter_frequencies.items(), key=lambda x: x[1], reverse = True)\n",
    "plt.bar([s[0] for s in S],[s[1] for s in S])"
   ]
  },
  {
   "cell_type": "markdown",
   "metadata": {},
   "source": [
    "We can now perform a similar analysis on the ciphertext..."
   ]
  },
  {
   "cell_type": "code",
   "execution_count": 4,
   "metadata": {},
   "outputs": [
    {
     "data": {
      "text/plain": [
       "<BarContainer object of 27 artists>"
      ]
     },
     "execution_count": 4,
     "metadata": {},
     "output_type": "execute_result"
    },
    {
     "data": {
      "image/png": "[encoded data removed]",
      "text/plain": [
       "<Figure size 640x480 with 1 Axes>"
      ]
     },
     "metadata": {},
     "output_type": "display_data"
    }
   ],
   "source": [
    "ciphertext_frequencies = {}\n",
    "for character in alphabet:\n",
    "    ciphertext_frequencies[character] = 0\n",
    "\n",
    "cipher_pair_f = {}\n",
    "for pair in pairs:\n",
    "    cipher_pair_f[pair] = 0\n",
    "\n",
    "last_char = \" \" #a space\n",
    "for character in ciphertext:\n",
    "    if character == \"\\n\":\n",
    "        character = \" \";\n",
    "    ciphertext_frequencies[character] += 1\n",
    "    cipher_pair_f[last_char+character] += 1\n",
    "    last_char = character\n",
    "\n",
    "for character in alphabet:\n",
    "    ciphertext_frequencies[character] /= len(ciphertext)\n",
    "\n",
    "for pair in pairs:\n",
    "    cipher_pair_f[pair] /= len(ciphertext)\n",
    "\n",
    "S_cipher = sorted(ciphertext_frequencies.items(), key=lambda x: x[1], reverse = True)\n",
    "plt.bar([s[0] for s in S_cipher],[s[1] for s in S_cipher], color = \"lightgreen\")"
   ]
  },
  {
   "cell_type": "markdown",
   "metadata": {},
   "source": [
    "... and try to match the letters in accordance with their popularity in order to guess the "
   ]
  },
  {
   "cell_type": "code",
   "execution_count": 5,
   "metadata": {},
   "outputs": [
    {
     "name": "stdout",
     "output_type": "stream",
     "text": [
      "{' ': 'b', 'e': 's', 't': 'u', 'a': 'z', 'o': 'e', 'n': 'n', 'i': 't', 's': 'p', 'h': 'y', 'r': 'w', 'l': 'l', 'd': 'a', 'u': 'o', 'm': 'j', 'c': 'c', 'w': 'h', 'g': 'i', 'f': 'g', 'p': 'm', 'y': 'r', 'b': 'v', 'v': 'x', 'k': 'q', 'q': 'd', 'j': 'f', 'x': 'k', 'z': ' '} \n",
      "\n",
      "fowe tive uihl we ndr pe wb tove ndr ue uitt ntt hle ctenagsea csove hlnh vntteba ysovea litta ndr mietra uoora os aheecb wogdhnid bietra ndr ue uitt aih gcod hle sofka aeeidy hle aleclesra meer hleis mtofka pb alnttou sivesa ho uloae mntta wetorioga pisra aidy wnrsiynta ndr i uitt wnke hlee pera om soaea ndr n hlogandr msnysndh coaiea n fnc om mtouesa ndr n kishte ewpsoireser ntt uihl tenvea om wbshte n youd wnre om hle mideah uoot ulifl msow ogs csehhb tnwpa ue cgtt mnis tider aticcesa mos hle fotr uihl pgfktea om hle cgseah yotr\n"
     ]
    }
   ],
   "source": [
    "most_probable_key = {} #the word key will always describe a transormation: plaintext->ciphertext\n",
    "for i in range(len(alphabet)):\n",
    "    most_probable_key[S[i][0]] = S_cipher[i][0]\n",
    "print(most_probable_key, \"\\n\")\n",
    "print(decrypt(ciphertext, most_probable_key))"
   ]
  },
  {
   "cell_type": "markdown",
   "metadata": {},
   "source": [
    "As we can see, the naive approach does not work, which was quite easy to predict - the character frequencies in a portion of text are only hoped to settle on their standard values for very long texts. Our message is far too short to tell the difference between two letters of comparable frequencies."
   ]
  },
  {
   "cell_type": "code",
   "execution_count": 6,
   "metadata": {},
   "outputs": [
    {
     "data": {
      "text/plain": [
       "537"
      ]
     },
     "execution_count": 6,
     "metadata": {},
     "output_type": "execute_result"
    }
   ],
   "source": [
    "len(ciphertext)"
   ]
  },
  {
   "cell_type": "markdown",
   "metadata": {},
   "source": [
    "We will adopt a different approach where we use the Metropolis algorithm to generate possible keys such that the probability of selecting a key is proportional to how well the decyphered text reflects standard frequency statistics. We will analyse probabilities of occurences of pairs of letters rather than of single characters, which is a more accurate model. It is worth to note that the approximation does not reflect all statistical properties of character sequences. In fact, any pair frequency table could be reproduced by a Markovian model in which the next letter depends only on the current one and not on the ones preceeding it, a property which obviously is not true for the natural language (\"ll\" is possible, but \"lll\" is not). The approximation will turn out to be sufficient for our purposes. Also note that treating the space character as a letter allows us to easily include common word beginnings and endings in the pair frequency table.\n",
    "\n",
    "We will need a qualitative measure of how good a potential key is. We choose to compute the Pearson correlation coefficient between frequency vector for pairs of characters in the decyphered message and the standard vector for English. Spearman's rank correlation does not seem suitable for this kind of task, since, among the 27*27 possible pairs, most are relatively rare, and swapping two rare letters should have much less effect than exchanging two popular ones.\n",
    "\n",
    "Note that the r score computation could be optimized, since the means and standard deviations do not change between different calls of the function. Also, when we attempt a step in the random walk, we only need to consider the difference in r caused by swapping two letters, a fact we could use to greatly reduce the amount of computation. However, there will be no such need here."
   ]
  },
  {
   "cell_type": "code",
   "execution_count": 7,
   "metadata": {},
   "outputs": [
    {
     "data": {
      "text/plain": [
       "0.5054912436069318"
      ]
     },
     "execution_count": 7,
     "metadata": {},
     "output_type": "execute_result"
    }
   ],
   "source": [
    "std_f_vector = np.array([pair_frequencies[pair] for pair in pairs])\n",
    "def r(key):\n",
    "    freq = [] #create frequency vector\n",
    "    for pair in pairs:\n",
    "        freq.append(cipher_pair_f[ key[pair[0]]+key[pair[1]] ] )\n",
    "    return np.corrcoef( np.array(freq), std_f_vector)[0][1] #Pearson correlation\n",
    "\n",
    "r(most_probable_key)"
   ]
  },
  {
   "cell_type": "markdown",
   "metadata": {},
   "source": [
    "Let's see some typical values of r."
   ]
  },
  {
   "cell_type": "code",
   "execution_count": 8,
   "metadata": {},
   "outputs": [
    {
     "name": "stdout",
     "output_type": "stream",
     "text": [
      "MIN -0.1224437721492662 MAX 0.36353562885988455\n"
     ]
    },
    {
     "data": {
      "text/plain": [
       "(array([ 84., 318., 308., 159.,  75.,  34.,  10.,   7.,   3.,   2.]),\n",
       " array([-0.12244377, -0.07384583, -0.02524789,  0.02335005,  0.07194799,\n",
       "         0.12054593,  0.16914387,  0.21774181,  0.26633975,  0.31493769,\n",
       "         0.36353563]),\n",
       " <BarContainer object of 10 artists>)"
      ]
     },
     "execution_count": 8,
     "metadata": {},
     "output_type": "execute_result"
    },
    {
     "data": {
      "image/png": "[encoded data removed]",
      "text/plain": [
       "<Figure size 640x480 with 1 Axes>"
      ]
     },
     "metadata": {},
     "output_type": "display_data"
    }
   ],
   "source": [
    "r_scores = np.array( [r(random_key()) for i in range(1000)] )\n",
    "print(\"MIN\", np.min(r_scores), \"MAX\", np.max(r_scores))\n",
    "plt.hist(r_scores, color = \"pink\")"
   ]
  },
  {
   "cell_type": "markdown",
   "metadata": {},
   "source": [
    "We will choose the desired stationary distribution probability to be proportional to\n",
    "$$\n",
    "z = e^{\\beta r},\n",
    "$$\n",
    "where $\\beta>0$ is some fixed parameter which acts similarly to (inverse) temperature - the lower the value of $\\beta$, the more likely the system is to sit off the maximum of $r$. This choice of $z$ has the following advantages.\n",
    "- $z$ is necessarily positive.\n",
    "- We can tune $\\beta$ to fit our needs - decoding a large volume of text would probably work best with a high $\\beta$, since the actual solution is likely not too far from the maximum of $r$.\n",
    "- The stationary distribution is invariant under the constant shift $r \\to r+r'$, which is why we can focus on differences in $r$ scores, and not their actual values. This property possibly makes it easier to choose a suitable $r$.\n",
    "\n",
    "NB With very high $\\beta$, the ratios between $z$ values will either be very large or very small, which would mean that the transition probabilities in the standard Metropolis algorithm would be very close to 0 or 1, and so it would take very long to reach the stationary distribution. The problem could possibly be evaded by using different transition probabilities for the random walk."
   ]
  },
  {
   "cell_type": "code",
   "execution_count": 9,
   "metadata": {},
   "outputs": [
    {
     "name": "stdout",
     "output_type": "stream",
     "text": [
      "fowe tive uihl we ndr pe wb tove ndr ue uitt ntt hle ctenagsea csove hlnh vntteba ysovea litta ndr mietra uoora os aheecb wogdhnid bietra ndr ue uitt aih gcod hle sofka aeeidy hle aleclesra meer hleis mtofka pb alnttou sivesa ho uloae mntta wetorioga pisra aidy wnrsiynta ndr i uitt wnke hlee pera om soaea ndr n hlogandr msnysndh coaiea n fnc om mtouesa ndr n kishte ewpsoireser ntt uihl tenvea om wbshte n youd wnre om hle mideah uoot ulifl msow ogs csehhb tnwpa ue cgtt mnis tider aticcesa mos hle fotr uihl pgfktea om hle cgseah yotr\n"
     ]
    },
    {
     "data": {
      "text/plain": [
       "0.013324501849092023"
      ]
     },
     "execution_count": 9,
     "metadata": {},
     "output_type": "execute_result"
    }
   ],
   "source": [
    "def validity_score(key): #how valid of a message does a key produce\n",
    "    decrypted = decrypt(ciphertext, key)\n",
    "    total_freq = 0\n",
    "    valid_freq = 0\n",
    "    current_word = \"\"\n",
    "    for character in decrypted:\n",
    "        if character == \" \" or character == \"\\n\":\n",
    "            try:\n",
    "                word_frequencies[current_word]\n",
    "            except:\n",
    "                total_freq += word_frequencies[\"i\"] #penalty for getting a word wrong, estimated by the freq of a very common word (\"I\")\n",
    "            else:\n",
    "                valid_freq += word_frequencies[current_word]\n",
    "                total_freq += word_frequencies[current_word]\n",
    "            current_word = \"\"\n",
    "                \n",
    "        else:\n",
    "            current_word += character\n",
    "    return valid_freq/total_freq\n",
    "\n",
    "print(decrypt(ciphertext, most_probable_key))\n",
    "validity_score(most_probable_key)"
   ]
  },
  {
   "cell_type": "markdown",
   "metadata": {},
   "source": [
    "The validity score is very low, as the message makes no sense. The score for the actual solution would be 0.92 - there are some words Marlowe uses that don't occur in Moby Dick. This shouldn't be much of a problem, though, as the method only serves to filter out plausible solutions, which then have to be verified by eye.\n",
    "\n",
    "Here, we only choose to stop the search after exceeding validity>0.9 for convenience. In practice, one would have no prior knowledge of the desired validity score and would have to make the program print possible solutions until finding the correct one or understanding the meaning of the message. (We could never realistically count on validity being 1, since the message could contain some rare name of a person or a geographical location, or words from a foreign language for example.)"
   ]
  },
  {
   "cell_type": "code",
   "execution_count": 10,
   "metadata": {},
   "outputs": [
    {
     "name": "stdout",
     "output_type": "stream",
     "text": [
      "finished after  12 walks\n"
     ]
    }
   ],
   "source": [
    "beta = 1000 #fitted by trial and error\n",
    "\n",
    "def transpose(key, l1, l2):\n",
    "    new_key = {}\n",
    "    for l in alphabet:\n",
    "        new_key[l] = key[l]\n",
    "    new_key[l1] = key[l2]\n",
    "    new_key[l2] = key[l1]\n",
    "    return new_key\n",
    "\n",
    "def Metropolis_random_walk(key, steps = 100):\n",
    "    current_r = r(key)\n",
    "    for step in range(steps):\n",
    "        l1 = alphabet[random.randint(0,len(alphabet)-1)]\n",
    "        l2 = alphabet[random.randint(0,len(alphabet)-1)]\n",
    "        #do allow for l1 == l2 to avoid complications arising from periodicity\n",
    "        new_key = transpose(key, l1, l2)\n",
    "        new_r = r(new_key)\n",
    "        A = np.exp( beta*(new_r-current_r) )\n",
    "        if random.random() < A: #make a step\n",
    "            key = new_key\n",
    "            current_r = new_r\n",
    "    return key\n",
    "        \n",
    "def attempt_cracking(starting_key):\n",
    "    key = transpose(starting_key, \"a\", \"a\") #copy\n",
    "    validity = validity_score(key)\n",
    "    sensible_keys = []\n",
    "    count = 0\n",
    "    while validity < 0.9 and count < 10000:\n",
    "        count += 1\n",
    "        key = Metropolis_random_walk(key, steps = 27*27+random.randint(0,10))\n",
    "        validity = validity_score(key)\n",
    "        if validity>0.7:\n",
    "            sensible_keys.append(key)\n",
    "    print(\"finished after \", count, \"walks\")\n",
    "    return sensible_keys\n",
    "\n",
    "sensible_keys = attempt_cracking(most_probable_key)      \n",
    "        "
   ]
  },
  {
   "cell_type": "code",
   "execution_count": 11,
   "metadata": {},
   "outputs": [
    {
     "data": {
      "text/plain": [
       "10"
      ]
     },
     "execution_count": 11,
     "metadata": {},
     "output_type": "execute_result"
    }
   ],
   "source": [
    "len(sensible_keys)"
   ]
  },
  {
   "cell_type": "code",
   "execution_count": 12,
   "metadata": {},
   "outputs": [
    {
     "name": "stdout",
     "output_type": "stream",
     "text": [
      "pome live with me and ce my love and we will all the bleasures brove that valleys groves hills and fields woods or steeby mountain yields and we will sit ubon the ropqs seeing the shebherds feed their flopqs cy shallow rivers to whose falls melodious cirds sing madrigals and i will maqe thee ceds of roses and a thousand fragrant bosies a pab of flowers and a qirtle emcroidered all with leaves of myrtle a gown made of the finest wool whiph from our bretty lamcs we bull fair lined slibbers for the pold with cupqles of the burest gold \n",
      "\n",
      "poce lime with ce and ve cy lome and we will all the bleasures brome that malleys gromes hills and fields woods or steeby countain yields and we will sit ubon the ropks seeing the shebherds feed their flopks vy shallow rimers to whose falls celodious virds sing cadrigals and i will cake thee veds of roses and a thousand fragrant bosies a pab of flowers and a kirtle ecvroidered all with leames of cyrtle a gown cade of the finest wool whiph froc our bretty lacvs we bull fair lined slibbers for the pold with vupkles of the burest gold \n",
      "\n",
      "kome live with me and be my love and we will all the cleasures crove that valleys groves hills and fields woods or steecy mountain yields and we will sit ucon the rokps seeing the shecherds feed their flokps by shallow rivers to whose falls melodious birds sing madrigals and i will mape thee beds of roses and a thousand fragrant cosies a kac of flowers and a pirtle embroidered all with leaves of myrtle a gown made of the finest wool whikh from our cretty lambs we cull fair lined sliccers for the kold with bukples of the curest gold \n",
      "\n",
      "xome live with me and be my love and we will all the cleasures crove that valleys groves hills and fields woods or steecy mountain yields and we will sit ucon the roxks seeing the shecherds feed their floxks by shallow rivers to whose falls melodious birds sing madrigals and i will make thee beds of roses and a thousand fragrant cosies a xac of flowers and a kirtle embroidered all with leaves of myrtle a gown made of the finest wool whixh from our cretty lambs we cull fair lined sliccers for the xold with buxkles of the curest gold \n",
      "\n",
      "pome live with me and be my love and we will all the cleasures crove that valleys groves hills and fields woods or steecy mountain yields and we will sit ucon the ropks seeing the shecherds feed their flopks by shallow rivers to whose falls melodious birds sing madrigals and i will make thee beds of roses and a thousand fragrant cosies a pac of flowers and a kirtle embroidered all with leaves of myrtle a gown made of the finest wool whiph from our cretty lambs we cull fair lined sliccers for the pold with bupkles of the curest gold \n",
      "\n",
      "pome live with me and be my love and we will all the cleasures crove that valleys groves hills and fields woods or steecy mountain yields and we will sit ucon the ropqs seeing the shecherds feed their flopqs by shallow rivers to whose falls melodious birds sing madrigals and i will maqe thee beds of roses and a thousand fragrant cosies a pac of flowers and a qirtle embroidered all with leaves of myrtle a gown made of the finest wool whiph from our cretty lambs we cull fair lined sliccers for the pold with bupqles of the curest gold \n",
      "\n",
      "pome live with me and be my love and we will all the cleasures crove that valleys groves hills and fields woods or steecy mountain yields and we will sit ucon the ropqs seeing the shecherds feed their flopqs by shallow rivers to whose falls melodious birds sing madrigals and i will maqe thee beds of roses and a thousand fragrant cosies a pac of flowers and a qirtle embroidered all with leaves of myrtle a gown made of the finest wool whiph from our cretty lambs we cull fair lined sliccers for the pold with bupqles of the curest gold \n",
      "\n",
      "poce live with ce and me cy love and we will all the bleasures brove that valleys groves hills and fields woods or steeby countain yields and we will sit ubon the ropjs seeing the shebherds feed their flopjs my shallow rivers to whose falls celodious mirds sing cadrigals and i will caje thee meds of roses and a thousand fragrant bosies a pab of flowers and a jirtle ecmroidered all with leaves of cyrtle a gown cade of the finest wool whiph froc our bretty lacms we bull fair lined slibbers for the pold with mupjles of the burest gold \n",
      "\n",
      "pome live with me and be my love and we will all the cleasures crove that valleys groves hills and fields woods or steecy mountain yields and we will sit ucon the ropqs seeing the shecherds feed their flopqs by shallow rivers to whose falls melodious birds sing madrigals and i will maqe thee beds of roses and a thousand fragrant cosies a pac of flowers and a qirtle embroidered all with leaves of myrtle a gown made of the finest wool whiph from our cretty lambs we cull fair lined sliccers for the pold with bupqles of the curest gold \n",
      "\n",
      "come live with me and be my love and we will all the pleasures prove that valleys groves hills and fields woods or steepy mountain yields and we will sit upon the rocks seeing the shepherds feed their flocks by shallow rivers to whose falls melodious birds sing madrigals and i will make thee beds of roses and a thousand fragrant posies a cap of flowers and a kirtle embroidered all with leaves of myrtle a gown made of the finest wool which from our pretty lambs we pull fair lined slippers for the cold with buckles of the purest gold \n",
      "\n"
     ]
    }
   ],
   "source": [
    "for key in sensible_keys:\n",
    "    print(decrypt(ciphertext,key), \"\\n\")"
   ]
  },
  {
   "cell_type": "markdown",
   "metadata": {},
   "source": [
    "Depending on the seed, the final plausible solution shown by the above program could still be imperfect. However, the model produces a fairly readable message, and minor errors can easily be spotted and correcter by the reader."
   ]
  }
 ],
 "metadata": {
  "kernelspec": {
   "display_name": "base",
   "language": "python",
   "name": "python3"
  },
  "language_info": {
   "codemirror_mode": {
    "name": "ipython",
    "version": 3
   },
   "file_extension": ".py",
   "mimetype": "text/x-python",
   "name": "python",
   "nbconvert_exporter": "python",
   "pygments_lexer": "ipython3",
   "version": "3.11.5"
  }
 },
 "nbformat": 4,
 "nbformat_minor": 4
}
